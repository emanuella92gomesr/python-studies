{
 "cells": [
  {
   "cell_type": "code",
   "execution_count": 2,
   "id": "d88bd5bd",
   "metadata": {},
   "outputs": [
    {
     "name": "stdout",
     "output_type": "stream",
     "text": [
      "Digite um número qualquer: \n",
      "5\n",
      "Parabéns! Você digitou um número ímpar! \n",
      "\n"
     ]
    }
   ],
   "source": [
    "numero = int(input('Digite um número qualquer: \\n'))\n",
    "while numero%2 == 0 : #enquanto essa condição for verdadeira, o laço será executado\n",
    "    print('Você digitou um número par! Digite outro número: \\n')\n",
    "    numero = int(input('Digite um número qualquer: \\n'))\n",
    "print('Parabéns! Você digitou um número ímpar! \\n')"
   ]
  },
  {
   "cell_type": "code",
   "execution_count": 4,
   "id": "161e0588",
   "metadata": {},
   "outputs": [
    {
     "name": "stdout",
     "output_type": "stream",
     "text": [
      "Hoje a fruta banana está em promoção!\n",
      "Hoje a fruta maçã está em promoção!\n",
      "Hoje a fruta laranja está em promoção!\n",
      "Hoje a fruta acerola está em promoção!\n"
     ]
    }
   ],
   "source": [
    "frutas_em_producao = [\"banana\", \"maçã\", \"laranja\", \"acerola\"]\n",
    "for fruta in frutas_em_producao:\n",
    "    print('Hoje a fruta ' + fruta + ' está em promoção!')"
   ]
  },
  {
   "cell_type": "code",
   "execution_count": 5,
   "id": "6ea19f87",
   "metadata": {},
   "outputs": [
    {
     "name": "stdout",
     "output_type": "stream",
     "text": [
      "O valor de x nesta iteração é:  0\n",
      "O valor de x nesta iteração é:  1\n",
      "O valor de x nesta iteração é:  2\n",
      "O valor de x nesta iteração é:  3\n",
      "O valor de x nesta iteração é:  4\n"
     ]
    }
   ],
   "source": [
    "for x in range(5):\n",
    "    print('O valor de x nesta iteração é: ', x)"
   ]
  },
  {
   "cell_type": "code",
   "execution_count": 6,
   "id": "fd611187",
   "metadata": {},
   "outputs": [
    {
     "name": "stdout",
     "output_type": "stream",
     "text": [
      "1\n",
      "2\n",
      "3\n",
      "4\n",
      "5\n"
     ]
    }
   ],
   "source": [
    "counter = 1\n",
    "\n",
    "while counter < 11:\n",
    "    print(counter)\n",
    "    \n",
    "    if counter == 5:\n",
    "        break\n",
    "    \n",
    "    counter += 1"
   ]
  },
  {
   "cell_type": "code",
   "execution_count": 7,
   "id": "4d46a836",
   "metadata": {},
   "outputs": [
    {
     "name": "stdout",
     "output_type": "stream",
     "text": [
      "10\n",
      "8\n",
      "6\n",
      "4\n",
      "2\n"
     ]
    }
   ],
   "source": [
    "x = 10\n",
    "while x >= 2:\n",
    "    print(x)\n",
    "    x -= 2"
   ]
  },
  {
   "cell_type": "code",
   "execution_count": 8,
   "id": "16c4fe76",
   "metadata": {},
   "outputs": [
    {
     "name": "stdout",
     "output_type": "stream",
     "text": [
      "0\n",
      "1\n",
      "2\n",
      "3\n",
      "4\n",
      "5\n",
      "6\n",
      "7\n",
      "8\n",
      "9\n",
      "10\n",
      "11\n",
      "12\n",
      "13\n",
      "14\n",
      "15\n",
      "16\n",
      "17\n",
      "18\n",
      "19\n"
     ]
    }
   ],
   "source": [
    "for x in range(10*2):\n",
    "    print(x)"
   ]
  },
  {
   "cell_type": "code",
   "execution_count": 12,
   "id": "33602710",
   "metadata": {},
   "outputs": [
    {
     "name": "stdout",
     "output_type": "stream",
     "text": [
      "10\n",
      "8\n",
      "6\n",
      "4\n",
      "2\n"
     ]
    }
   ],
   "source": [
    "for x in range(10,1,-2):\n",
    "    print(x)"
   ]
  },
  {
   "cell_type": "code",
   "execution_count": 13,
   "id": "9436e478",
   "metadata": {},
   "outputs": [
    {
     "name": "stdout",
     "output_type": "stream",
     "text": [
      "4\n",
      "16\n",
      "36\n",
      "64\n",
      "100\n"
     ]
    }
   ],
   "source": [
    "for i in range(1,11):\n",
    "    if i%2 == 1:\n",
    "        continue\n",
    "    print(i**2)"
   ]
  },
  {
   "cell_type": "code",
   "execution_count": null,
   "id": "9ed93416",
   "metadata": {},
   "outputs": [],
   "source": []
  }
 ],
 "metadata": {
  "kernelspec": {
   "display_name": "Python 3 (ipykernel)",
   "language": "python",
   "name": "python3"
  },
  "language_info": {
   "codemirror_mode": {
    "name": "ipython",
    "version": 3
   },
   "file_extension": ".py",
   "mimetype": "text/x-python",
   "name": "python",
   "nbconvert_exporter": "python",
   "pygments_lexer": "ipython3",
   "version": "3.9.13"
  }
 },
 "nbformat": 4,
 "nbformat_minor": 5
}
