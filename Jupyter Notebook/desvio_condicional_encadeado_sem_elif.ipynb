{
 "cells": [
  {
   "cell_type": "code",
   "execution_count": null,
   "id": "3b3f8d96",
   "metadata": {},
   "outputs": [
    {
     "name": "stdout",
     "output_type": "stream",
     "text": [
      "Digite o valor do saldo atual: \n",
      "100.00\n"
     ]
    }
   ],
   "source": [
    "saldo = input (\"Digite o valor do saldo atual: \\n\")\n",
    "saldo_float = float(saldo)\n",
    "cheque_especial = 500.00\n",
    "cheque_especial_float = float(cheque_especial)\n",
    "saque = input (\"Digite o valor a ser sacado: \\n\")\n",
    "saque_float = float(saque)\n",
    "idade = input(\"Digite a sua idade: \\n\")\n",
    "idade_int = int(idade)\n",
    "#verifica se possui limite suficiente para saque\n",
    "if saldo_float < saque_float:\n",
    "    #\"Mesmo sem saldo, usuários com mais de 25 anos de idade podem sacar até R$500.00 do cheque especial.\"\n",
    "    #(Adaptado o conteúdo do curso de Introdução à Lógica de Programação em Python da DELL/Lead)\n",
    "    if(idade_int >= 25 and saldo_float + cheque_especial_float >= saque_float):\n",
    "        saldo_float -= saque_float\n",
    "        print(\"Saque efetuado com sucesso! \\n\")\n",
    "        print(f\"Cheque especial: R${saldo_float:.2f} \\n\" )\n",
    "    else:\n",
    "        print(\"Saque não efetuado: \\n Saldo insuficiente!\\n\")\n",
    "else:\n",
    "    saldo_float -= saque_float\n",
    "    print(\"Saque efetuado com sucesso! \\n\")\n",
    "    print(f\"Saldo: R${saldo_float:.2f} \\n\")"
   ]
  },
  {
   "cell_type": "code",
   "execution_count": null,
   "id": "f9a80843",
   "metadata": {},
   "outputs": [],
   "source": []
  }
 ],
 "metadata": {
  "kernelspec": {
   "display_name": "Python 3 (ipykernel)",
   "language": "python",
   "name": "python3"
  },
  "language_info": {
   "codemirror_mode": {
    "name": "ipython",
    "version": 3
   },
   "file_extension": ".py",
   "mimetype": "text/x-python",
   "name": "python",
   "nbconvert_exporter": "python",
   "pygments_lexer": "ipython3",
   "version": "3.9.13"
  }
 },
 "nbformat": 4,
 "nbformat_minor": 5
}
