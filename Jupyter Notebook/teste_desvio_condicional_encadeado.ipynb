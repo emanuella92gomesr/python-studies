{
 "cells": [
  {
   "cell_type": "code",
   "execution_count": 4,
   "id": "6119820f",
   "metadata": {},
   "outputs": [
    {
     "name": "stdout",
     "output_type": "stream",
     "text": [
      "Digite o valor do seu saldo atual: \n",
      "200.00\n",
      "Digite a sua idade: \n",
      "40\n",
      "Digite o valor a ser sacado: \n",
      "500.00\n",
      "Saque efetuado com sucesso com uso do cheque especial! \n",
      " Cuidado! \n",
      "\n"
     ]
    }
   ],
   "source": [
    "saldo = input (\"Digite o valor do seu saldo atual: \\n\")\n",
    "saldo_float = float(saldo)\n",
    "idade = input (\"Digite a sua idade: \\n\")\n",
    "idade_int = int(idade)\n",
    "valor_saque = input (\"Digite o valor a ser sacado: \\n\")\n",
    "valor_saque_float = float(valor_saque)\n",
    "if saldo_float >= valor_saque_float:\n",
    "    saldo_float -= valor_saque_float\n",
    "    #comandos para liberar o dinheiro\n",
    "    print(\"Saque efetuado com sucesso! \\n\")\n",
    "#teste para saber se o cheque especial é suficiente e a idade é suficiente\n",
    "elif saldo_float + 500.0 >= valor_saque_float and idade_int > 25:\n",
    "    saldo_float -= valor_saque_float\n",
    "    #comandos para liberar o dinheiro\n",
    "    print (\"Saque efetuado com sucesso com uso do cheque especial! \\n Cuidado! \\n\")\n",
    "else:\n",
    "    print (\"Saque não efetuado: Saldo insuficiente!\\n\")"
   ]
  },
  {
   "cell_type": "code",
   "execution_count": null,
   "id": "8c303b89",
   "metadata": {},
   "outputs": [],
   "source": []
  },
  {
   "cell_type": "code",
   "execution_count": null,
   "id": "6a03195f",
   "metadata": {},
   "outputs": [],
   "source": []
  }
 ],
 "metadata": {
  "kernelspec": {
   "display_name": "Python 3 (ipykernel)",
   "language": "python",
   "name": "python3"
  },
  "language_info": {
   "codemirror_mode": {
    "name": "ipython",
    "version": 3
   },
   "file_extension": ".py",
   "mimetype": "text/x-python",
   "name": "python",
   "nbconvert_exporter": "python",
   "pygments_lexer": "ipython3",
   "version": "3.9.13"
  }
 },
 "nbformat": 4,
 "nbformat_minor": 5
}
