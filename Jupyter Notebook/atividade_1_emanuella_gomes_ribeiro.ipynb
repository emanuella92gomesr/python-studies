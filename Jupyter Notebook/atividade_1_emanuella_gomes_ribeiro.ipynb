{
 "cells": [
  {
   "cell_type": "code",
   "execution_count": 25,
   "id": "74c2cb62",
   "metadata": {},
   "outputs": [
    {
     "name": "stdout",
     "output_type": "stream",
     "text": [
      "=== Vamos calcular o seu IMC ===\n",
      "Digite o seu peso: \n",
      "45\n",
      "Digite a sua altura (no padrão metro.centímetros): \n",
      "1.23\n",
      "O valor do seu IMC é: 29.74\n"
     ]
    }
   ],
   "source": [
    "print(\"=== Vamos calcular o seu IMC ===\")\n",
    "peso = input('Digite o seu peso: \\n')\n",
    "altura = input('Digite a sua altura (no padrão metro.centímetros): \\n')\n",
    "peso_float = float(peso)\n",
    "altura_float = float(altura)\n",
    "altura_ao_quadrado = altura_float**2\n",
    "imc = peso_float/altura_ao_quadrado\n",
    "print(f'O valor do seu IMC é: {imc:.2f}')"
   ]
  },
  {
   "cell_type": "code",
   "execution_count": null,
   "id": "f19f26ab",
   "metadata": {},
   "outputs": [],
   "source": []
  }
 ],
 "metadata": {
  "kernelspec": {
   "display_name": "Python 3 (ipykernel)",
   "language": "python",
   "name": "python3"
  },
  "language_info": {
   "codemirror_mode": {
    "name": "ipython",
    "version": 3
   },
   "file_extension": ".py",
   "mimetype": "text/x-python",
   "name": "python",
   "nbconvert_exporter": "python",
   "pygments_lexer": "ipython3",
   "version": "3.9.13"
  }
 },
 "nbformat": 4,
 "nbformat_minor": 5
}
